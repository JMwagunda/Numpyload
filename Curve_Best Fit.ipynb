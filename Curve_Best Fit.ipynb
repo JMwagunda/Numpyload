{
 "cells": [
  {
   "cell_type": "code",
   "execution_count": 4,
   "id": "c4f47da4",
   "metadata": {},
   "outputs": [],
   "source": [
    "import numpy as np\n",
    "import csv\n",
    "import matplotlib.pyplot as plt\n",
    "import numpy as np\n",
    "from scipy.optimize import curve_fit\n",
    "from numpy import cos"
   ]
  },
  {
   "cell_type": "code",
   "execution_count": 10,
   "id": "a25b4afd",
   "metadata": {},
   "outputs": [],
   "source": [
    "arr=(np.loadtxt(\"town_temperature.txt\",usecols=(0,1), skiprows=1,unpack=True))"
   ]
  },
  {
   "cell_type": "code",
   "execution_count": 11,
   "id": "dc7b221f",
   "metadata": {},
   "outputs": [
    {
     "data": {
      "text/plain": [
       "(2, 273)"
      ]
     },
     "execution_count": 11,
     "metadata": {},
     "output_type": "execute_result"
    }
   ],
   "source": [
    "arr.shape"
   ]
  },
  {
   "cell_type": "code",
   "execution_count": 45,
   "id": "2ebdf469",
   "metadata": {},
   "outputs": [
    {
     "data": {
      "text/plain": [
       "85.7"
      ]
     },
     "execution_count": 45,
     "metadata": {},
     "output_type": "execute_result"
    }
   ],
   "source": [
    "Date=arr[0,:]\n",
    "Temp=arr[1,:]\n",
    "\n",
    "Temp.max()"
   ]
  },
  {
   "cell_type": "code",
   "execution_count": 46,
   "id": "c5cc9ee5",
   "metadata": {},
   "outputs": [
    {
     "data": {
      "text/plain": [
       "-99.0"
      ]
     },
     "execution_count": 46,
     "metadata": {},
     "output_type": "execute_result"
    }
   ],
   "source": [
    "Temp.min()"
   ]
  },
  {
   "cell_type": "code",
   "execution_count": 48,
   "id": "06ceadf9",
   "metadata": {},
   "outputs": [
    {
     "data": {
      "text/plain": [
       "2016.0"
      ]
     },
     "execution_count": 48,
     "metadata": {},
     "output_type": "execute_result"
    }
   ],
   "source": [
    "Date.max()"
   ]
  },
  {
   "cell_type": "code",
   "execution_count": 49,
   "id": "2ab572d2",
   "metadata": {},
   "outputs": [
    {
     "data": {
      "text/plain": [
       "1744.0"
      ]
     },
     "execution_count": 49,
     "metadata": {},
     "output_type": "execute_result"
    }
   ],
   "source": [
    "Date.min()"
   ]
  },
  {
   "cell_type": "code",
   "execution_count": 47,
   "id": "c60bd4a4",
   "metadata": {},
   "outputs": [
    {
     "data": {
      "text/plain": [
       "Text(0.5, 1.0, 'Plot of Average temperature against the Time in years')"
      ]
     },
     "execution_count": 47,
     "metadata": {},
     "output_type": "execute_result"
    },
    {
     "data": {
      "image/png": "[encoded data removed]",
      "text/plain": [
       "<Figure size 432x288 with 1 Axes>"
      ]
     },
     "metadata": {
      "needs_background": "light"
     },
     "output_type": "display_data"
    }
   ],
   "source": [
    "import matplotlib.pyplot as plt\n",
    "plt.plot(x,y,'.')\n",
    "plt.xlabel(\"Time in Years\")\n",
    "plt.ylabel(\"Average Temperature\")\n",
    "plt.title(\"Plot of Average temperature against the Time in years\")"
   ]
  },
  {
   "cell_type": "code",
   "execution_count": 16,
   "id": "fc08131d",
   "metadata": {},
   "outputs": [],
   "source": [
    "def line(x,a,b):\n",
    "    return a*x+b"
   ]
  },
  {
   "cell_type": "code",
   "execution_count": 24,
   "id": "7457d628",
   "metadata": {},
   "outputs": [],
   "source": [
    "from scipy.optimize import curve_fit\n",
    "Date = np.array(Date)\n",
    "Temp = np.array(Temp)"
   ]
  },
  {
   "cell_type": "code",
   "execution_count": 103,
   "id": "a4073ee2",
   "metadata": {},
   "outputs": [],
   "source": [
    "popt, pcov=curve_fit(line, Date, Temp)"
   ]
  },
  {
   "cell_type": "code",
   "execution_count": 26,
   "id": "51484161",
   "metadata": {},
   "outputs": [
    {
     "data": {
      "text/plain": [
       "array([-9.70602393e-02,  2.46237719e+02])"
      ]
     },
     "execution_count": 26,
     "metadata": {},
     "output_type": "execute_result"
    }
   ],
   "source": [
    "popt"
   ]
  },
  {
   "cell_type": "code",
   "execution_count": 27,
   "id": "8989374c",
   "metadata": {},
   "outputs": [
    {
     "data": {
      "text/plain": [
       "array([[ 1.46645126e-04, -2.75692836e-01],\n",
       "       [-2.75692836e-01,  5.19213294e+02]])"
      ]
     },
     "execution_count": 27,
     "metadata": {},
     "output_type": "execute_result"
    }
   ],
   "source": [
    "pcov"
   ]
  },
  {
   "cell_type": "code",
   "execution_count": 108,
   "id": "a44a86bc",
   "metadata": {},
   "outputs": [],
   "source": [
    "e=np.repeat(55.,len(Date))"
   ]
  },
  {
   "cell_type": "code",
   "execution_count": 107,
   "id": "2efcf17d",
   "metadata": {},
   "outputs": [
    {
     "data": {
      "text/plain": [
       "array([55., 55., 55., 55., 55., 55., 55., 55., 55., 55., 55., 55., 55.,\n",
       "       55., 55., 55., 55., 55., 55., 55., 55., 55., 55., 55., 55., 55.,\n",
       "       55., 55., 55., 55., 55., 55., 55., 55., 55., 55., 55., 55., 55.,\n",
       "       55., 55., 55., 55., 55., 55., 55., 55., 55., 55., 55., 55., 55.,\n",
       "       55., 55., 55., 55., 55., 55., 55., 55., 55., 55., 55., 55., 55.,\n",
       "       55., 55., 55., 55., 55., 55., 55., 55., 55., 55., 55., 55., 55.,\n",
       "       55., 55., 55., 55., 55., 55., 55., 55., 55., 55., 55., 55., 55.,\n",
       "       55., 55., 55., 55., 55., 55., 55., 55., 55., 55., 55., 55., 55.,\n",
       "       55., 55., 55., 55., 55., 55., 55., 55., 55., 55., 55., 55., 55.,\n",
       "       55., 55., 55., 55., 55., 55., 55., 55., 55., 55., 55., 55., 55.,\n",
       "       55., 55., 55., 55., 55., 55., 55., 55., 55., 55., 55., 55., 55.,\n",
       "       55., 55., 55., 55., 55., 55., 55., 55., 55., 55., 55., 55., 55.,\n",
       "       55., 55., 55., 55., 55., 55., 55., 55., 55., 55., 55., 55., 55.,\n",
       "       55., 55., 55., 55., 55., 55., 55., 55., 55., 55., 55., 55., 55.,\n",
       "       55., 55., 55., 55., 55., 55., 55., 55., 55., 55., 55., 55., 55.,\n",
       "       55., 55., 55., 55., 55., 55., 55., 55., 55., 55., 55., 55., 55.,\n",
       "       55., 55., 55., 55., 55., 55., 55., 55., 55., 55., 55., 55., 55.,\n",
       "       55., 55., 55., 55., 55., 55., 55., 55., 55., 55., 55., 55., 55.,\n",
       "       55., 55., 55., 55., 55., 55., 55., 55., 55., 55., 55., 55., 55.,\n",
       "       55., 55., 55., 55., 55., 55., 55., 55., 55., 55., 55., 55., 55.,\n",
       "       55., 55., 55., 55., 55., 55., 55., 55., 55., 55., 55., 55., 55.])"
      ]
     },
     "execution_count": 107,
     "metadata": {},
     "output_type": "execute_result"
    }
   ],
   "source": [
    "e"
   ]
  },
  {
   "cell_type": "code",
   "execution_count": 111,
   "id": "1dde23fc",
   "metadata": {},
   "outputs": [],
   "source": [
    "popt, pcov=curve_fit(line, Date,Temp, sigma=e)"
   ]
  },
  {
   "cell_type": "code",
   "execution_count": 112,
   "id": "6f41f184",
   "metadata": {},
   "outputs": [
    {
     "data": {
      "text/plain": [
       "<ErrorbarContainer object of 3 artists>"
      ]
     },
     "execution_count": 112,
     "metadata": {},
     "output_type": "execute_result"
    },
    {
     "data": {
      "image/png": "[encoded data removed]",
      "text/plain": [
       "<Figure size 432x288 with 1 Axes>"
      ]
     },
     "metadata": {
      "needs_background": "light"
     },
     "output_type": "display_data"
    }
   ],
   "source": [
    "plt.errorbar(Date,Temp,yerr=e, fmt=\"none\", label=\"Data with error bars\")"
   ]
  },
  {
   "cell_type": "code",
   "execution_count": 33,
   "id": "ddf6f65d",
   "metadata": {},
   "outputs": [
    {
     "data": {
      "text/plain": [
       "array([-9.70602402e-02,  2.46237721e+02])"
      ]
     },
     "execution_count": 33,
     "metadata": {},
     "output_type": "execute_result"
    }
   ],
   "source": [
    "popt"
   ]
  },
  {
   "cell_type": "code",
   "execution_count": 115,
   "id": "5e879539",
   "metadata": {},
   "outputs": [
    {
     "data": {
      "text/plain": [
       "[<matplotlib.lines.Line2D at 0x1e5320da6d0>]"
      ]
     },
     "execution_count": 115,
     "metadata": {},
     "output_type": "execute_result"
    },
    {
     "data": {
      "image/png": "[encoded data removed]",
      "text/plain": [
       "<Figure size 432x288 with 1 Axes>"
      ]
     },
     "metadata": {
      "needs_background": "light"
     },
     "output_type": "display_data"
    }
   ],
   "source": [
    "plt.errorbar(x,y,yerr=e,fmt='.')\n",
    "xfine=np.linspace(1704.0,2016.0,273)\n",
    "plt.plot(xfine,line(xfine, *popt),'r-', label='Fitted curve')"
   ]
  },
  {
   "cell_type": "code",
   "execution_count": 53,
   "id": "c6fb31e1",
   "metadata": {},
   "outputs": [],
   "source": [
    "#f(t) = a cost(2pi*t + b) +c\n",
    "# Define the function to fit\n",
    "def equation(t,a, b, c):\n",
    "    return a*np.cos(2*np.pi*x+ b)+ c"
   ]
  },
  {
   "cell_type": "code",
   "execution_count": 117,
   "id": "d6c490e2",
   "metadata": {},
   "outputs": [],
   "source": [
    "popt, pcov = curve_fit(equation, Date, Temp)"
   ]
  },
  {
   "cell_type": "code",
   "execution_count": 118,
   "id": "d5c9f966",
   "metadata": {},
   "outputs": [
    {
     "data": {
      "text/plain": [
       "array([ 1.42035472e-03, -1.16047294e+04,  6.37663777e+01])"
      ]
     },
     "execution_count": 118,
     "metadata": {},
     "output_type": "execute_result"
    }
   ],
   "source": [
    "popt"
   ]
  },
  {
   "cell_type": "code",
   "execution_count": 119,
   "id": "074aa8d9",
   "metadata": {},
   "outputs": [
    {
     "data": {
      "text/plain": [
       "array([[ 9.24866789e-06, -1.34133043e+00,  8.96814638e-06],\n",
       "       [-1.34133043e+00,  1.31591706e+06,  1.59278540e+00],\n",
       "       [ 8.96814638e-06,  1.59278540e+00,  1.12978144e+00]])"
      ]
     },
     "execution_count": 119,
     "metadata": {},
     "output_type": "execute_result"
    }
   ],
   "source": [
    "pcov"
   ]
  },
  {
   "cell_type": "code",
   "execution_count": 120,
   "id": "8f6e23cb",
   "metadata": {},
   "outputs": [],
   "source": [
    "popt, pcov=curve_fit(equation, Date,Temp, sigma=e)"
   ]
  },
  {
   "cell_type": "code",
   "execution_count": 121,
   "id": "8736a0a6",
   "metadata": {},
   "outputs": [
    {
     "data": {
      "text/plain": [
       "<ErrorbarContainer object of 3 artists>"
      ]
     },
     "execution_count": 121,
     "metadata": {},
     "output_type": "execute_result"
    },
    {
     "data": {
      "image/png": "[encoded data removed]",
      "text/plain": [
       "<Figure size 432x288 with 1 Axes>"
      ]
     },
     "metadata": {
      "needs_background": "light"
     },
     "output_type": "display_data"
    }
   ],
   "source": [
    "plt.errorbar(Date, Temp, yerr=e, fmt=\".\", label=\"Data with error bars\")"
   ]
  },
  {
   "cell_type": "code",
   "execution_count": 131,
   "id": "89fcd08e",
   "metadata": {},
   "outputs": [
    {
     "data": {
      "text/plain": [
       "<matplotlib.legend.Legend at 0x1e531e5d820>"
      ]
     },
     "execution_count": 131,
     "metadata": {},
     "output_type": "execute_result"
    },
    {
     "data": {
      "image/png": "[encoded data removed]",
      "text/plain": [
       "<Figure size 432x288 with 1 Axes>"
      ]
     },
     "metadata": {
      "needs_background": "light"
     },
     "output_type": "display_data"
    }
   ],
   "source": [
    "xfine=np.linspace(1704.0,2016.0,273)\n",
    "y_model =equation(xfine, *popt)\n",
    "plt.plot(xfine, y_model, 'g-', label=\"Fitted curve\")\n",
    "plt.xlabel(\"Time in Years\")\n",
    "plt.ylabel(\"Average Temperature\")\n",
    "plt.title(\"Plot of Average temperature against the Time in years\")\n",
    "plt.legend()"
   ]
  },
  {
   "cell_type": "code",
   "execution_count": null,
   "id": "f2ecd8c7",
   "metadata": {},
   "outputs": [],
   "source": []
  }
 ],
 "metadata": {
  "kernelspec": {
   "display_name": "Python 3 (ipykernel)",
   "language": "python",
   "name": "python3"
  },
  "language_info": {
   "codemirror_mode": {
    "name": "ipython",
    "version": 3
   },
   "file_extension": ".py",
   "mimetype": "text/x-python",
   "name": "python",
   "nbconvert_exporter": "python",
   "pygments_lexer": "ipython3",
   "version": "3.9.7"
  }
 },
 "nbformat": 4,
 "nbformat_minor": 5
}
